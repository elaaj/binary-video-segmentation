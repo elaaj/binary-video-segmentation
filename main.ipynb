{
 "cells": [
  {
   "cell_type": "code",
   "execution_count": 1,
   "metadata": {},
   "outputs": [],
   "source": [
    "import cv2 as cv\n",
    "import watershedOpenCV as wa\n",
    "import customAlgorithm as ca\n",
    "\n",
    "loadableVideos = {\"Toucan\" : 1, \"Dino\" : 2, \"Cracker\" : 3, \"Ganesh\" : 4}\n",
    "\n",
    "# Variables to set to choose the algorithm and the video to load\n",
    "videoToLoad = loadableVideos[\"Ganesh\"]  # Choose one among the keys in loadableVideos\n",
    "chosenAlgorithm = \"watershed\" # \"custom\" or \"watershed\"\n",
    "\n",
    "# Open the video reader and read the first frame, if available\n",
    "videoReader = cv.VideoCapture(\"../data/obj0\" + str(videoToLoad) + \".mp4\")\n",
    "success, image = videoReader.read()\n",
    "\n",
    "# Choose the algorithm for the execution.\n",
    "algorithm = wa.watershedSegmentation if chosenAlgorithm == \"watershed\" else ca.multiSpaceSegmentation\n",
    "\n",
    "# Set the video format to mp4, as for the original videos\n",
    "videoFormat = cv.VideoWriter_fourcc(\"m\", \"p\", \"4\", \"v\")\n",
    "\n",
    "# Start an OpenCV videowriter to write the frames on the new video.\n",
    "# I always set the 29.97 fps and 1920x1080 for each video because every original video has such parameters.\n",
    "videoWriter = cv.VideoWriter(\"../data/obj0\" + str(videoToLoad) + \"_mask.mp4\", videoFormat, 29.97, (1920, 1080))\n",
    "\n",
    "while (success and videoReader.isOpened()):\n",
    "    \"\"\"Transform the frame just read and save it at the same time as new frame for the \n",
    "    new video.\n",
    "    \"\"\"\n",
    "    videoWriter.write(algorithm(image))\n",
    "    success, image = videoReader.read()\n",
    "\n",
    "videoWriter.release()\n",
    "videoReader.release()\n",
    "cv.destroyAllWindows()"
   ]
  },
  {
   "cell_type": "markdown",
   "metadata": {},
   "source": [
    "Now I compare the results of the two methods I built against the ground truth masks:"
   ]
  },
  {
   "cell_type": "code",
   "execution_count": 2,
   "metadata": {},
   "outputs": [
    {
     "name": "stdout",
     "output_type": "stream",
     "text": [
      "WatershedOpenCV segmentation achieves an accuracy of 0.9792389724794238.\n",
      "Multi space segmentation achieves an accuracy of 0.9962096514917695.\n",
      "\n",
      "WatershedOpenCV segmentation achieves a precision of 0.9924746044098574.\n",
      "Multi space segmentation achieves a precision of 0.9936587544571787.\n",
      "\n",
      "WatershedOpenCV segmentation achieves a recall of 0.9639245673144333.\n",
      "Multi space segmentation achieves a recall of 0.998451132435567.\n",
      "\n"
     ]
    }
   ],
   "source": [
    "from sklearn.metrics import (\n",
    "    confusion_matrix,\n",
    "    ConfusionMatrixDisplay,\n",
    "    accuracy_score,\n",
    "    precision_score,\n",
    "    recall_score,\n",
    ")\n",
    "import cv2 as cv\n",
    "import watershedOpenCV as wa\n",
    "import customAlgorithm as ca\n",
    "from os import listdir\n",
    "from numpy import array\n",
    "\n",
    "from copy import deepcopy\n",
    "\n",
    "\"\"\"cv2, watershedOpenCV and customAlgorithm are imported again to allows the execution \n",
    "of just the performance examination chunk.\n",
    "\"\"\"\n",
    "\n",
    "# Retrieve every test frame (both ground truth and frames to transform)\n",
    "testDataset = [\n",
    "    cv.imread(\"../assignment1_test_dataset/obj0\" + str(videoIndex) + \"/\" + fileName)\n",
    "    for videoIndex in [1, 2, 4]\n",
    "    for fileName in listdir(\"../assignment1_test_dataset/obj0\" + str(videoIndex) + \"/\")\n",
    "]\n",
    "\n",
    "# This binarization is necessary because groundTruthTestMasks images include also other values\n",
    "# than 255 and 0.\n",
    "def binarizeIntensityFrame(frame):\n",
    "    frame[frame != 0] = 255\n",
    "    return frame\n",
    "\n",
    "# Store the ground trouth frames\n",
    "groundTruthTestMasks = testDataset[1::2]\n",
    "# Compute the \"multi-space\" and watershed segmented images. The deepcopy was necessary\n",
    "# otherwise multiSpaceSegmentation would have modified testDataset, and hence compromised\n",
    "# the results of watershedSegmentation.\n",
    "customComputedTestMasks = [ca.multiSpaceSegmentation(rawTestFrame) for rawTestFrame in deepcopy(testDataset[0::2])]\n",
    "watershedComputedTestMasks = [wa.watershedSegmentation(rawTestFrame) for rawTestFrame in deepcopy(testDataset[0::2])]\n",
    "\n",
    "# Convert the 3 sets of images to gray scale with 2 values (0 and 255), to have an\n",
    "# easier correspondence with Negative and Positive classes.\n",
    "for index in range(len(groundTruthTestMasks)):\n",
    "    groundTruthTestMasks[index] = binarizeIntensityFrame(cv.cvtColor(groundTruthTestMasks[index], cv.COLOR_BGR2GRAY))\n",
    "    watershedComputedTestMasks[index] = cv.cvtColor(watershedComputedTestMasks[index], cv.COLOR_BGR2GRAY)\n",
    "    customComputedTestMasks[index] = cv.cvtColor(customComputedTestMasks[index], cv.COLOR_BGR2GRAY)\n",
    "\n",
    "# Linearize the arrays to compare them pixel by pixel.\n",
    "groundTruthTestMasks = array(groundTruthTestMasks).ravel()\n",
    "watershedComputedTestMasks = array(watershedComputedTestMasks).ravel()\n",
    "customComputedTestMasks = array(customComputedTestMasks).ravel()\n",
    "\n",
    "watershedAccuracy = accuracy_score(groundTruthTestMasks, watershedComputedTestMasks)\n",
    "customAccuracy = accuracy_score(groundTruthTestMasks, customComputedTestMasks)\n",
    "\n",
    "print(f\"WatershedOpenCV segmentation achieves an accuracy of {watershedAccuracy}.\")\n",
    "print(f\"Multi space segmentation achieves an accuracy of {customAccuracy}.\\n\")\n",
    "\n",
    "watershedPrecision = precision_score(groundTruthTestMasks, watershedComputedTestMasks, pos_label=255)\n",
    "customPrecision = precision_score(groundTruthTestMasks, customComputedTestMasks, pos_label=255)\n",
    "\n",
    "print(f\"WatershedOpenCV segmentation achieves a precision of {watershedPrecision}.\")\n",
    "print(f\"Multi space segmentation achieves a precision of {customPrecision}.\\n\")\n",
    "\n",
    "watershedRecall = recall_score(groundTruthTestMasks, watershedComputedTestMasks, pos_label=255)\n",
    "customRecall = recall_score(groundTruthTestMasks, customComputedTestMasks, pos_label=255)\n",
    "\n",
    "print(f\"WatershedOpenCV segmentation achieves a recall of {watershedRecall}.\")\n",
    "print(f\"Multi space segmentation achieves a recall of {customRecall}.\\n\")"
   ]
  },
  {
   "cell_type": "markdown",
   "metadata": {},
   "source": [
    "I print, as requested, the following scores: \n",
    " - The accuracy which is the accuracy of the classification of each pixel. \n",
    "\n",
    " - The precision which is the ability of the classifier not to label as positive a sample that is negative.It is calculated as follows: \n",
    "    tp/(tp + fp) where tp is the number of true positives and fp the number of false positives.\n",
    "\n",
    " - The recall which is the ability of the classifier to find all the positive samples. It it computed as follows: \n",
    "   tp / (tp + fn) where tp is the number of true positives and fn the number of false \n",
    "   negatives.\n",
    "   \n",
    " In my case I got that on average the \"multiSpace\" algorithm scores better than the watershed algorithm of OpenCv, in particular I got that: \n",
    " - The precision is very similar and high for both methods. \n",
    " - The recall and accuracy performs a few points better in the \"multiSpace\" algorithm, although they score very well also with watershed. "
   ]
  },
  {
   "cell_type": "markdown",
   "metadata": {},
   "source": [
    "Now let's focus on the confusion matrices related to the two methods. First we give a look to the Watershed matrix:"
   ]
  },
  {
   "cell_type": "code",
   "execution_count": 3,
   "metadata": {},
   "outputs": [],
   "source": [
    "watershedCf = confusion_matrix(groundTruthTestMasks, watershedComputedTestMasks)\n",
    "customCf = confusion_matrix(groundTruthTestMasks, customComputedTestMasks)"
   ]
  },
  {
   "cell_type": "code",
   "execution_count": 4,
   "metadata": {},
   "outputs": [
    {
     "data": {
      "image/png": "[encoded data removed]",
      "text/plain": [
       "<Figure size 432x288 with 2 Axes>"
      ]
     },
     "metadata": {
      "needs_background": "light"
     },
     "output_type": "display_data"
    }
   ],
   "source": [
    "import matplotlib.pyplot as plt\n",
    "\n",
    "watershedCfDisplay = ConfusionMatrixDisplay(\n",
    "    watershedCf, display_labels=[\"Negative\", \"Positive\"]\n",
    ")\n",
    "\n",
    "watershedCfDisplay.plot()\n",
    "plt.show()"
   ]
  },
  {
   "cell_type": "markdown",
   "metadata": {},
   "source": [
    "Now we are going to see the Custom Algorithm's confusion matrix: "
   ]
  },
  {
   "cell_type": "code",
   "execution_count": 5,
   "metadata": {},
   "outputs": [
    {
     "data": {
      "image/png": "[encoded data removed]",
      "text/plain": [
       "<Figure size 432x288 with 2 Axes>"
      ]
     },
     "metadata": {
      "needs_background": "light"
     },
     "output_type": "display_data"
    }
   ],
   "source": [
    "customCfDisplay = ConfusionMatrixDisplay(\n",
    "    customCf, display_labels=[\"Negative\", \"Positive\"]\n",
    ")\n",
    "\n",
    "customCfDisplay.plot()\n",
    "plt.show()"
   ]
  },
  {
   "cell_type": "markdown",
   "metadata": {},
   "source": [
    "As we can see in the both matrices above, we have a good balance, since we have that:\n",
    " - The true positive (tp), which refers to a sample correctly classified positive, \n",
    "   and the true negative (tn), which refers to a sample correctly classified as negative, both have a high value. \n",
    " - Instead, as expected, both false positives (fp) and false negatives (fn) have low values. \n",
    "\n",
    "In particular, we have that:\n",
    " - the customAlgorithm has a much better confusion matrix than the watershedOpenCv. \n",
    " - tp of customAlgorithm's confusion matrix are around 1.5e+07 against 1.4e+07 of watershedOpenCv's confusion matrix.\n",
    " - tn of customAlgorithm's confusion matrix are the same as those of watershedOpenCv's confusion matrix, that is, 1.6e+07.\n",
    " - fp of customAlgorithm's confusion matrix are around 94841 versus 108789 of watershedOpenCv's confusion matrix.\n",
    " - fn of customAlgorithm's confusion matrix are around 23054 against 536962 of watershedOpenCv's confusion matrix."
   ]
  }
 ],
 "metadata": {
  "kernelspec": {
   "display_name": "Python 3.8.10 64-bit",
   "language": "python",
   "name": "python3"
  },
  "language_info": {
   "codemirror_mode": {
    "name": "ipython",
    "version": 3
   },
   "file_extension": ".py",
   "mimetype": "text/x-python",
   "name": "python",
   "nbconvert_exporter": "python",
   "pygments_lexer": "ipython3",
   "version": "3.8.10"
  },
  "orig_nbformat": 4,
  "vscode": {
   "interpreter": {
    "hash": "916dbcbb3f70747c44a77c7bcd40155683ae19c65e1c03b4aa3499c5328201f1"
   }
  }
 },
 "nbformat": 4,
 "nbformat_minor": 2
}
